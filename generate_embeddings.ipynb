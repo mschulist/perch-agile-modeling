{
 "cells": [
  {
   "cell_type": "code",
   "execution_count": null,
   "metadata": {},
   "outputs": [],
   "source": [
    "from src.generate_embeddings import make_embed_config, setup_model, embed_audio"
   ]
  },
  {
   "cell_type": "code",
   "execution_count": null,
   "metadata": {},
   "outputs": [],
   "source": [
    "embeddings_path = 'embeddings'\n",
    "source_file_patterns = ['ARU_data/*.wav'] \n",
    "file_id_depth = 1 # if you have a file structure like 'speaker_id/file_id.wav', set this to 2\n",
    "config = make_embed_config(embeddings_path, source_file_patterns, file_id_depth)"
   ]
  },
  {
   "cell_type": "code",
   "execution_count": null,
   "metadata": {},
   "outputs": [],
   "source": [
    "embed_fn, source_infos = setup_model(config)"
   ]
  },
  {
   "cell_type": "code",
   "execution_count": null,
   "metadata": {},
   "outputs": [],
   "source": [
    "embed_audio(embed_fn, source_infos, config)"
   ]
  }
 ],
 "metadata": {
  "kernelspec": {
   "display_name": "perch-agile-modeling",
   "language": "python",
   "name": "python3"
  },
  "language_info": {
   "codemirror_mode": {
    "name": "ipython",
    "version": 3
   },
   "file_extension": ".py",
   "mimetype": "text/x-python",
   "name": "python",
   "nbconvert_exporter": "python",
   "pygments_lexer": "ipython3",
   "version": "3.10.14"
  }
 },
 "nbformat": 4,
 "nbformat_minor": 2
}
