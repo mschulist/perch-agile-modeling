{
 "cells": [
  {
   "cell_type": "code",
   "execution_count": null,
   "metadata": {},
   "outputs": [],
   "source": [
    "from src.agile_modeling import get_target_recordings, search_recordings, get_missing_species\n",
    "from chirp.inference.search import bootstrap\n",
    "from etils import epath"
   ]
  },
  {
   "cell_type": "code",
   "execution_count": null,
   "metadata": {},
   "outputs": [],
   "source": [
    "working_dir =  '.'\n",
    "embeddings_path = epath.Path(working_dir) / 'embeddings'\n",
    "labeled_data_path = epath.Path(working_dir) / 'labeled_outputs'\n",
    "target_recordings_path = epath.Path(working_dir) / 'target_recordings'\n",
    "bootstrap_config = bootstrap.BootstrapConfig.load_from_embedding_path(\n",
    "      embeddings_path=embeddings_path,\n",
    "      annotated_path=labeled_data_path)\n",
    "\n",
    "project_state = bootstrap.BootstrapState(\n",
    "    bootstrap_config, a2o_auth_token='')\n",
    "window_s = bootstrap_config.model_config['window_size_s']\n",
    "sample_rate = bootstrap_config.model_config['sample_rate']"
   ]
  },
  {
   "cell_type": "code",
   "execution_count": null,
   "metadata": {},
   "outputs": [],
   "source": [
    "species_code_list = ['herwar']\n",
    "types = ['song']\n",
    "\n",
    "get_target_recordings(species_code_list=species_code_list, \n",
    "                      types=types, \n",
    "                      n=3, \n",
    "                      target_path=target_recordings_path, \n",
    "                      sample_rate=sample_rate, \n",
    "                      window_s=window_s)"
   ]
  },
  {
   "cell_type": "code",
   "execution_count": null,
   "metadata": {},
   "outputs": [],
   "source": [
    "results = search_recordings(target_path=target_recordings_path, \n",
    "                  labeled_path=labeled_data_path,\n",
    "                  working_dir=working_dir,\n",
    "                  target_score=None, \n",
    "                  sample_rate=sample_rate, \n",
    "                  project_state=project_state,\n",
    "                  bootstrap_config=bootstrap_config)"
   ]
  },
  {
   "cell_type": "code",
   "execution_count": null,
   "metadata": {},
   "outputs": [],
   "source": [
    "results.write_labeled_data(labeled_data_path, sample_rate)"
   ]
  },
  {
   "cell_type": "code",
   "execution_count": null,
   "metadata": {},
   "outputs": [],
   "source": [
    "get_missing_species(\n",
    "    labeled_path=labeled_data_path,\n",
    "    bird_list=None,\n",
    "    types=types,\n",
    "    n_recordings=10\n",
    ")"
   ]
  }
 ],
 "metadata": {
  "kernelspec": {
   "display_name": "perch_gpu",
   "language": "python",
   "name": "python3"
  },
  "language_info": {
   "codemirror_mode": {
    "name": "ipython",
    "version": 3
   },
   "file_extension": ".py",
   "mimetype": "text/x-python",
   "name": "python",
   "nbconvert_exporter": "python",
   "pygments_lexer": "ipython3",
   "version": "3.10.14"
  }
 },
 "nbformat": 4,
 "nbformat_minor": 2
}
